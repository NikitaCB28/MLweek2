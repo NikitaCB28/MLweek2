{
  "nbformat": 4,
  "nbformat_minor": 0,
  "metadata": {
    "colab": {
      "provenance": []
    },
    "kernelspec": {
      "name": "python3",
      "display_name": "Python 3"
    },
    "language_info": {
      "name": "python"
    }
  },
  "cells": [
    {
      "cell_type": "code",
      "execution_count": null,
      "metadata": {
        "id": "3JHE9GsCNscs"
      },
      "outputs": [],
      "source": [
        "!pip install ultralytics\n",
        "!pip install torch\n",
        "!pip install torchvision\n",
        "!pip install pandas\n",
        "!pip install matplotlib\n",
        "!pip install seaborn"
      ]
    },
    {
      "cell_type": "code",
      "source": [
        "from google.colab import drive\n",
        "drive.mount('/content/drive')"
      ],
      "metadata": {
        "id": "LhIOiqXhNyp0"
      },
      "execution_count": null,
      "outputs": []
    },
    {
      "cell_type": "code",
      "source": [
        "import os\n",
        "\n",
        "# Define the path to your dataset in Google Drive\n",
        "dataset_path = '/content/drive/My Drive/Colab Notebooks/'\n",
        "\n",
        "# Set the paths for train, validation, and test images\n",
        "train_images = os.path.join(dataset_path, 'train/images')\n",
        "val_images = os.path.join(dataset_path, 'valid/images')\n",
        "test_images = os.path.join(dataset_path, 'test/images')\n",
        "\n",
        "# Set the paths for train, validation, and test labels\n",
        "train_labels = os.path.join(dataset_path, 'train/labels')\n",
        "val_labels = os.path.join(dataset_path, 'valid/labels')\n",
        "test_labels = os.path.join(dataset_path, 'test/labels')"
      ],
      "metadata": {
        "id": "gO2EOoVjN0_b"
      },
      "execution_count": null,
      "outputs": []
    },
    {
      "cell_type": "code",
      "source": [
        "# Save this as data.yaml\n",
        "train: '/content/drive/My Drive/Colab Notebooks/train/images'\n",
        "val: '/content/drive/My Drive/Colab Notebooks/valid/images'\n",
        "test: '/content/drive/My Drive/Colab Notebooks/test/images'\n",
        "\n",
        "nc: 1  # Number of classes (update this if there are multiple classes)\n",
        "names: ['car_part']  # Class names"
      ],
      "metadata": {
        "id": "IczVBposN2uz"
      },
      "execution_count": null,
      "outputs": []
    },
    {
      "cell_type": "code",
      "source": [
        "from ultralytics import YOLO\n",
        "\n",
        "# Load a YOLOv8 model\n",
        "model = YOLO('yolov8n.pt')  # You can use yolov8n.pt, yolov8s.pt, yolov8m.pt, yolov8l.pt, or yolov8x.pt depending on your needs\n",
        "\n",
        "# Train the model\n",
        "model.train(data='/content/drive/My Drive/Colab Notebooks/data.yaml', epochs=50, imgsz=640)\n"
      ],
      "metadata": {
        "id": "SdVHKoEGN6Ir"
      },
      "execution_count": null,
      "outputs": []
    },
    {
      "cell_type": "code",
      "source": [
        "# Validate the model on the validation set\n",
        "results = model.val(data='/content/drive/My Drive/Colab Notebooks/data.yaml')\n",
        "\n",
        "# Plot and save confusion matrix\n",
        "confusion_matrix = results.plot_confusion_matrix()\n",
        "\n",
        "# Save results\n",
        "results_plots = results.plot_results()"
      ],
      "metadata": {
        "id": "tKbNN4m_N6mj"
      },
      "execution_count": null,
      "outputs": []
    }
  ]
}